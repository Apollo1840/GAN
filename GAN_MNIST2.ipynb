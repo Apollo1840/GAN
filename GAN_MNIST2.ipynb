{
 "cells": [
  {
   "cell_type": "code",
   "execution_count": null,
   "metadata": {},
   "outputs": [],
   "source": [
    "%%capture\n",
    "import numpy as np\n",
    "from keras.datasets.mnist import load_data\n",
    "import matplotlib.pyplot as plt\n",
    "from tqdm import tqdm\n",
    "\n",
    "from keras.optimizers import Adam\n",
    "from keras.models import Sequential, Model\n",
    "from keras.layers import Dense\n",
    "from keras.layers import Reshape\n",
    "from keras.layers import Flatten\n",
    "from keras.layers import Conv2D\n",
    "from keras.layers import Conv2DTranspose\n",
    "from keras.layers import LeakyReLU\n",
    "from keras.layers import Dropout\n",
    "\n",
    "from GAN_MNIST import *"
   ]
  },
  {
   "cell_type": "code",
   "execution_count": null,
   "metadata": {},
   "outputs": [],
   "source": [
    "# load image data\n",
    "dataset = load_real_samples()"
   ]
  },
  {
   "cell_type": "code",
   "execution_count": null,
   "metadata": {},
   "outputs": [],
   "source": [
    "latent_dim = 100\n",
    "G = Generator(latent_dim)\n",
    "D = Discriminator()\n",
    "gan = GAN(G, D)"
   ]
  },
  {
   "cell_type": "code",
   "execution_count": null,
   "metadata": {},
   "outputs": [],
   "source": [
    "# train model\n",
    "batch_size = 128\n",
    "n_epochs = 12\n",
    "n_batch = int(dataset.shape[0] / batch_size)\n",
    "\n",
    "for i in range(n_epochs):\n",
    "    for j in tqdm(range(n_batch)):\n",
    "        x_img, y_img = generate_dcm_batch(G, dataset, batch_size, latent_dim)\n",
    "        d_loss, _ = D.train_on_batch(x_img, y_img)\n",
    "\n",
    "        x_hid, y_hid = generate_gan_batch(latent_dim, batch_size)\n",
    "        g_loss = gan.train_on_batch(x_hid, y_hid)  # the D is frozen in gan\n",
    "\n",
    "    # summarize loss on this epoch\n",
    "    print('>%d, d=%.3f, g=%.3f' % (i + 1, d_loss, g_loss))\n",
    "    x_img_make = G.predict(np.random.randn(batch_size, latent_dim))\n",
    "    show_plot(x_img, 5)\n",
    "    show_plot(X_img_make, 5)"
   ]
  },
  {
   "cell_type": "code",
   "execution_count": null,
   "metadata": {},
   "outputs": [],
   "source": [
    "# generate images\n",
    "latent_points = np.random.randn(128, latent_dim)\n",
    "# generate images\n",
    "X = G.predict(latent_points)\n",
    "\n",
    "# plot the result\n",
    "show_plot(X, 5)\n"
   ]
  },
  {
   "cell_type": "code",
   "execution_count": null,
   "metadata": {},
   "outputs": [],
   "source": []
  }
 ],
 "metadata": {
  "kernelspec": {
   "display_name": "congyuml",
   "language": "python",
   "name": "congyuml"
  },
  "language_info": {
   "codemirror_mode": {
    "name": "ipython",
    "version": 3
   },
   "file_extension": ".py",
   "mimetype": "text/x-python",
   "name": "python",
   "nbconvert_exporter": "python",
   "pygments_lexer": "ipython3",
   "version": "3.6.9"
  }
 },
 "nbformat": 4,
 "nbformat_minor": 2
}
